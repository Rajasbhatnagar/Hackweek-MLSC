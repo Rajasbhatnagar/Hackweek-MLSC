{
  "nbformat": 4,
  "nbformat_minor": 0,
  "metadata": {
    "colab": {
      "provenance": [],
      "authorship_tag": "ABX9TyPvOWJvec2i2BUtkZRIgXjt",
      "include_colab_link": true
    },
    "kernelspec": {
      "name": "python3",
      "display_name": "Python 3"
    },
    "language_info": {
      "name": "python"
    }
  },
  "cells": [
    {
      "cell_type": "markdown",
      "metadata": {
        "id": "view-in-github",
        "colab_type": "text"
      },
      "source": [
        "<a href=\"https://colab.research.google.com/github/Rajasbhatnagar/Hackweek-MLSC/blob/main/Untitled7.ipynb\" target=\"_parent\"><img src=\"https://colab.research.google.com/assets/colab-badge.svg\" alt=\"Open In Colab\"/></a>"
      ]
    },
    {
      "cell_type": "code",
      "execution_count": null,
      "metadata": {
        "colab": {
          "base_uri": "https://localhost:8080/"
        },
        "id": "3cjATdjLrl2W",
        "outputId": "369f2c25-c64c-4f13-c861-ce70ee01ae1e"
      },
      "outputs": [
        {
          "output_type": "stream",
          "name": "stdout",
          "text": [
            "Matched job: 0\n"
          ]
        }
      ],
      "source": [
        "import numpy as np\n",
        "import torch\n",
        "from torch.utils.data import Dataset, DataLoader\n",
        "from sklearn.preprocessing import StandardScaler\n",
        "from sklearn.neighbors import KNeighborsClassifier\n",
        "import joblib\n",
        "\n",
        "\n",
        "class SkillsJobsDataset(Dataset):\n",
        "    def __init__(self, skills, jobs):\n",
        "        self.skills = skills\n",
        "        self.jobs = jobs\n",
        "\n",
        "        assert len(self.skills) == len(self.jobs)\n",
        "    def __len__(self):\n",
        "        return len(self.skills)\n",
        "\n",
        "    def __getitem__(self, idx):\n",
        "        return self.skills[idx], self.jobs[idx]\n",
        "\n",
        "def preprocess_data(skills, jobs):\n",
        "    scaler = StandardScaler()\n",
        "    skills_scaled = scaler.fit_transform(skills)\n",
        "    joblib.dump(scaler, 'scaler.pkl')\n",
        "    return skills_scaled, jobs\n",
        "\n",
        "skills set(0,1,2,3,4,5)\n",
        "jobs = set(0, 1, 2, 0, 1, 2)\n",
        "# skills = np.array([[0], [1],[2],[3],[4],[5]])  # Replace with actual skills data\n",
        "# jobs = np.array([0, 1, 2, 0, 1, 2 ])/\n",
        "print(jobs.union(skills))\n",
        "\n",
        "skills_scaled, jobs_preprocessed = preprocess_data(skills, jobs)\n",
        "\n",
        "\n",
        "dataset = SkillsJobsDataset(skills_scaled, jobs_preprocessed)\n",
        "dataloader = DataLoader(dataset, batch_size=len(skills_scaled), shuffle=True)\n",
        "\n",
        "\n",
        "def train_knn(dataloader, n_neighbors=3):\n",
        "    for skills_batch, jobs_batch in dataloader:\n",
        "        knn = KNeighborsClassifier(n_neighbors=n_neighbors)\n",
        "        knn.fit(skills_batch.numpy(), jobs_batch.numpy())\n",
        "        joblib.dump(knn, 'knn_model.pkl')\n",
        "\n",
        "train_knn(dataloader)\n",
        "\n",
        "\n",
        "def match_jobs(user_skills):\n",
        "    scaler = joblib.load('scaler.pkl')\n",
        "    knn = joblib.load('knn_model.pkl')\n",
        "\n",
        "    user_skills_scaled = scaler.transform([user_skills])\n",
        "    job_match = knn.predict(user_skills_scaled)\n",
        "    return job_match[0]\n",
        "\n",
        "user_skills = np.array([1.5])\n",
        "matched_job = match_jobs(user_skills)\n",
        "print(f\"Matched job: {matched_job}\")\n"
      ]
    },
    {
      "cell_type": "code",
      "source": [
        "skillset = {0, 1, 2,3,4,5,6,7,8,9,10,11,12,13,14,15,16,17,18,19,20,21,22,23,24,25,26,27,28}\n",
        "\n",
        "companies = {\"apple\" : {0, 1,9}, \"google\" : {1, 2}, \"amazon\" : {4,3,5}, \"microsoft\" : {2, 3, 5}, \"facebook\" : {0, 1, 2, 3, 4, 5}}\n",
        "\n",
        "for company in companies:\n",
        "    print(f\"{company}: {skillset.intersection(companies[company])}\")\n",
        "\n",
        ""
      ],
      "metadata": {
        "colab": {
          "base_uri": "https://localhost:8080/"
        },
        "id": "ebkl-ifuc8Ey",
        "outputId": "86fb3d53-9a74-452d-bcfd-cbfa41cce866"
      },
      "execution_count": 26,
      "outputs": [
        {
          "output_type": "stream",
          "name": "stdout",
          "text": [
            "apple: {0, 1, 9}\n",
            "google: {1, 2}\n",
            "amazon: {3, 4, 5}\n",
            "microsoft: {2, 3, 5}\n",
            "facebook: {0, 1, 2, 3, 4, 5}\n"
          ]
        }
      ]
    },
    {
      "cell_type": "code",
      "source": [
        "\n",
        "\n",
        "skillslist = [\n",
        "    \"HTML/CSS\", \"JavaScript\", \"React.js\", \"Angular.js\", \"Bootstrap\",\n",
        "    \"Tailwind CSS\", \"Node.js\", \"Express.js\", \"RESTful API Design\", \"MongoDB\",\n",
        "    \"MySQL\", \"Django\", \"PostgreSQL\", \"Redis\", \"Docker\",\n",
        "    \"AWS/Azure/GCP\", \"Python\", \"Computer Vision\", \"Natural Language Processing (NLP)\",\n",
        "    \"Swift\", \"Kotlin\", \"Flutter\", \"Dart\", \"React Native\", \"Firebase\"\n",
        "]\n",
        "\n",
        "# Skillset represented by indices\n",
        "#skillset = {0, 1, 2, 3, 4, 5, 6, 7, 8, 9, 10, 11, 12, 13, 14, 15, 16, 17, 18, 19, 20, 21, 22, 23, 24, 25}\n",
        "\n",
        "# Companies and their required skill indices\n",
        "companies = {\n",
        "    \"apple\": {0, 1, 9},\n",
        "    \"google\": {1, 2},\n",
        "    \"amazon\": {4, 3, 5},\n",
        "    \"microsoft\": {2, 3, 5},\n",
        "      \"facebook\": {0, 1, 2, 24}\n",
        "}\n",
        "\n",
        "for company in companies:\n",
        "    intersection = skillset.intersection(companies[company])\n",
        "    skills = [skillslist[i] for i in intersection]\n",
        "    print(f\"{company}: {skills}\")\n",
        "\n"
      ],
      "metadata": {
        "colab": {
          "base_uri": "https://localhost:8080/"
        },
        "id": "T4fPrbAY1YX3",
        "outputId": "dfa87a42-3424-44f4-d158-4b4242529d79"
      },
      "execution_count": 39,
      "outputs": [
        {
          "output_type": "stream",
          "name": "stdout",
          "text": [
            "apple: ['HTML/CSS', 'JavaScript', 'MongoDB']\n",
            "google: ['JavaScript', 'React.js']\n",
            "amazon: ['Angular.js', 'Bootstrap', 'Tailwind CSS']\n",
            "microsoft: ['React.js', 'Angular.js', 'Tailwind CSS']\n",
            "facebook: ['HTML/CSS', 'JavaScript', 'React.js', 'Firebase']\n"
          ]
        }
      ]
    },
    {
      "cell_type": "code",
      "source": [
        "\n",
        "# List of skills\n",
        "skillsList = [\n",
        "    \"HTML/CSS\", \"JavaScript\", \"React.js\", \"Angular.js\", \"Bootstrap\",\n",
        "    \"Tailwind CSS\", \"Node.js\", \"Express.js\", \"RESTful API Design\", \"MongoDB\",\n",
        "    \"MySQL\", \"Django\", \"PostgreSQL\", \"Redis\", \"Docker\",\n",
        "    \"AWS/Azure/GCP\", \"Python\", \"Computer Vision\", \"Natural Language Processing (NLP)\",\n",
        "    \"Swift\", \"Kotlin\", \"Flutter\", \"Dart\", \"React Native\", \"Firebase\"\n",
        "]\n",
        "\n",
        "\n",
        "companies = {\n",
        "    \"apple\": {0, 1, 9},\n",
        "    \"google\": {1, 2},\n",
        "    \"amazon\": {4, 3, 5},\n",
        "    \"microsoft\": {2, 3, 5},\n",
        "    \"facebook\": {0, 1, 2, 14}\n",
        "}\n",
        "\n",
        "\n",
        "def get_skill_indices(selected_skills):\n",
        "    return {skillsList.index(skill) for skill in selected_skills if skill in skillsList}\n",
        "\n",
        "\n",
        "user_selected_skills = input(\"Enter the skills you have, separated by commas: \").split(',')\n",
        "\n",
        "\n",
        "skillset = get_skill_indices(user_selected_skills)\n",
        "\n",
        "matching_companies = []\n",
        "for company, required_skills in companies.items():\n",
        "    intersection = skillset.intersection(required_skills)\n",
        "    if intersection:\n",
        "        skills = [skillsList[i] for i in intersection]\n",
        "        print(f\"{company}: {skills}\")\n",
        "        matching_companies.append(company)\n",
        "\n",
        "print(\"Matching companies:\", matching_companies)\n"
      ],
      "metadata": {
        "colab": {
          "base_uri": "https://localhost:8080/"
        },
        "id": "7TWiu7sr4FoG",
        "outputId": "78f930f9-0879-4906-f448-7ca7eb9ce8df"
      },
      "execution_count": 43,
      "outputs": [
        {
          "output_type": "stream",
          "name": "stdout",
          "text": [
            "Enter the skills you have, separated by commas: Docker\n",
            "facebook: ['Docker']\n",
            "Matching companies: ['facebook']\n"
          ]
        }
      ]
    }
  ]
}